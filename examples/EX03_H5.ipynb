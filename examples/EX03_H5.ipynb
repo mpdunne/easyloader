{
 "cells": [
  {
   "cell_type": "markdown",
   "id": "45b5b00e",
   "metadata": {},
   "source": [
    "# EX03: H5"
   ]
  },
  {
   "cell_type": "markdown",
   "id": "694ad8fb",
   "metadata": {},
   "source": [
    "## 1. Grab data"
   ]
  },
  {
   "cell_type": "code",
   "execution_count": 1,
   "id": "30c0c0a9",
   "metadata": {},
   "outputs": [],
   "source": [
    "import h5py\n",
    "import torch\n",
    "\n",
    "from torch.utils.data import Dataset, DataLoader\n",
    "from torchvision import datasets, transforms\n",
    "\n",
    "# Download and save MNIST data to an H5 file\n",
    "transform = transforms.ToTensor()\n",
    "mnist_train = datasets.MNIST(root='./data', train=True, download=True, transform=transform)\n",
    "\n",
    "# Process the data into an H5 file\n",
    "mnist_h5_file = 'mnist.h5'\n",
    "with h5py.File(mnist_h5_file, 'w') as f:\n",
    "    data = f.create_dataset('images', data=mnist_train.data.numpy())  # Save images\n",
    "    labels = f.create_dataset('labels', data=mnist_train.targets.numpy())  # Save labels\n"
   ]
  },
  {
   "cell_type": "markdown",
   "id": "d6fa0b96",
   "metadata": {},
   "source": [
    "## 2. Compare EasyLoader with a DataLoader + Dataset"
   ]
  },
  {
   "cell_type": "markdown",
   "id": "e3274cc6",
   "metadata": {},
   "source": [
    "Define a simple H5 Dataset."
   ]
  },
  {
   "cell_type": "code",
   "execution_count": 2,
   "id": "91ea34be",
   "metadata": {},
   "outputs": [],
   "source": [
    "import h5py\n",
    "\n",
    "from torch.utils.data import Dataset\n",
    "\n",
    "\n",
    "class SimpleH5Dataset(Dataset):\n",
    "\n",
    "    def __init__(self, h5_file, keys):\n",
    "        \n",
    "        self.h5_file = h5_file\n",
    "        self.keys = keys\n",
    "        self.h5 = h5py.File(h5_file, 'r')\n",
    "    \n",
    "    def __len__(self):\n",
    "        return len(self.h5[self.keys[0]])\n",
    "    \n",
    "    def __getitem__(self, idx):\n",
    "        return [self.h5[key][idx] for key in self.keys]"
   ]
  },
  {
   "cell_type": "markdown",
   "id": "706d9e2e",
   "metadata": {},
   "source": [
    "Iterate over data using a simple DataLoader + Dataset."
   ]
  },
  {
   "cell_type": "code",
   "execution_count": 3,
   "id": "cc4663fe",
   "metadata": {},
   "outputs": [
    {
     "data": {
      "application/vnd.jupyter.widget-view+json": {
       "model_id": "86565baaa501452a9c4acec34932ddd5",
       "version_major": 2,
       "version_minor": 0
      },
      "text/plain": [
       "  0%|          | 0/600 [00:00<?, ?it/s]"
      ]
     },
     "metadata": {},
     "output_type": "display_data"
    }
   ],
   "source": [
    "from tqdm.auto import tqdm\n",
    "\n",
    "dataset = SimpleH5Dataset(mnist_h5_file, ['images', 'labels'])\n",
    "dl_simple = DataLoader(dataset, batch_size=100, shuffle=True)\n",
    "\n",
    "for batch in tqdm(dl_simple):\n",
    "    pass"
   ]
  },
  {
   "cell_type": "markdown",
   "id": "012e753d",
   "metadata": {},
   "source": [
    "Now try using an EasyLoader, and improve speed using graining."
   ]
  },
  {
   "cell_type": "code",
   "execution_count": 4,
   "id": "db9c43a1",
   "metadata": {},
   "outputs": [
    {
     "data": {
      "application/vnd.jupyter.widget-view+json": {
       "model_id": "d3f773aa27324775b6b3faff37cd4a3a",
       "version_major": 2,
       "version_minor": 0
      },
      "text/plain": [
       "  0%|          | 0/600 [00:00<?, ?it/s]"
      ]
     },
     "metadata": {},
     "output_type": "display_data"
    }
   ],
   "source": [
    "from easyloader.loader import H5DataLoader\n",
    "\n",
    "dl_easy = H5DataLoader(mnist_h5_file, ['images', 'labels'], batch_size=100,\n",
    "                       grain_size=10, shuffle=True)\n",
    "\n",
    "for batch in tqdm(dl_easy):\n",
    "    pass"
   ]
  },
  {
   "cell_type": "code",
   "execution_count": null,
   "id": "c40c7dfb",
   "metadata": {},
   "outputs": [],
   "source": []
  },
  {
   "cell_type": "code",
   "execution_count": null,
   "id": "be93d0f6",
   "metadata": {},
   "outputs": [],
   "source": []
  }
 ],
 "metadata": {
  "kernelspec": {
   "display_name": "Python 3 (ipykernel)",
   "language": "python",
   "name": "python3"
  },
  "language_info": {
   "codemirror_mode": {
    "name": "ipython",
    "version": 3
   },
   "file_extension": ".py",
   "mimetype": "text/x-python",
   "name": "python",
   "nbconvert_exporter": "python",
   "pygments_lexer": "ipython3",
   "version": "3.8.15"
  }
 },
 "nbformat": 4,
 "nbformat_minor": 5
}
