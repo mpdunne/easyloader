{
 "cells": [
  {
   "cell_type": "markdown",
   "id": "dea99e5d",
   "metadata": {},
   "source": [
    "# EX02: DFs"
   ]
  },
  {
   "cell_type": "markdown",
   "id": "a7dddb62",
   "metadata": {},
   "source": [
    "## 1. Make some data"
   ]
  },
  {
   "cell_type": "code",
   "execution_count": 1,
   "id": "f4c7c7d7",
   "metadata": {},
   "outputs": [],
   "source": [
    "import numpy as np\n",
    "import pandas as pd\n",
    "\n",
    "df = pd.DataFrame(np.random.random(size=(100000, 100)))\n",
    "\n",
    "X_columns = [f'X_{i}' for i in range(99)]\n",
    "y_columns = [f'X_{i}' for i in range(1)]\n",
    "df.columns = X_columns + y_columns"
   ]
  },
  {
   "cell_type": "markdown",
   "id": "c0f1bd4a",
   "metadata": {},
   "source": [
    "## 2. Compare EasyLoader with a DataLoader + Dataset"
   ]
  },
  {
   "cell_type": "markdown",
   "id": "018f824f",
   "metadata": {},
   "source": [
    "Define a couple of different kinds of simple DF dataset."
   ]
  },
  {
   "cell_type": "code",
   "execution_count": 2,
   "id": "04e582d3",
   "metadata": {},
   "outputs": [],
   "source": [
    "import pandas as pd\n",
    "\n",
    "from torch.utils.data import Dataset, DataLoader\n",
    "\n",
    "\n",
    "class NaiveDFDataset(Dataset):\n",
    "    \n",
    "    def __init__(self, df, column_groups):\n",
    "        self.groups = [df[g] for g in column_groups]\n",
    "    \n",
    "    def __len__(self):\n",
    "        return len(self.groups[0])\n",
    "    \n",
    "    def __getitem__(self, idx):\n",
    "        return [g.iloc[idx].to_numpy() for g in self.groups]\n",
    "\n",
    "\n",
    "class SimpleDFDataset(Dataset):\n",
    "    \n",
    "    def __init__(self, df, column_groups):\n",
    "        self.groups = [df[g].values for g in column_groups]\n",
    "    \n",
    "    def __len__(self):\n",
    "        return len(self.groups[0])\n",
    "    \n",
    "    def __getitem__(self, idx):\n",
    "        return [g[idx] for g in self.groups]"
   ]
  },
  {
   "cell_type": "markdown",
   "id": "39546a7f",
   "metadata": {},
   "source": [
    "Wrap and run."
   ]
  },
  {
   "cell_type": "code",
   "execution_count": 3,
   "id": "b8c0b25e",
   "metadata": {},
   "outputs": [
    {
     "name": "stdout",
     "output_type": "stream",
     "text": [
      "Naive DF Dataset:\n"
     ]
    },
    {
     "data": {
      "application/vnd.jupyter.widget-view+json": {
       "model_id": "4a17b11ee13b49c9afc045ef5ea4c5c5",
       "version_major": 2,
       "version_minor": 0
      },
      "text/plain": [
       "  0%|          | 0/5 [00:00<?, ?it/s]"
      ]
     },
     "metadata": {},
     "output_type": "display_data"
    },
    {
     "data": {
      "application/vnd.jupyter.widget-view+json": {
       "model_id": "f8fccba59b2d4720ba54dfb3e7f7ccc0",
       "version_major": 2,
       "version_minor": 0
      },
      "text/plain": [
       "  0%|          | 0/10000 [00:00<?, ?it/s]"
      ]
     },
     "metadata": {},
     "output_type": "display_data"
    },
    {
     "data": {
      "application/vnd.jupyter.widget-view+json": {
       "model_id": "f9fb9525a29e4bff80a6ea79ac4415cf",
       "version_major": 2,
       "version_minor": 0
      },
      "text/plain": [
       "  0%|          | 0/10000 [00:00<?, ?it/s]"
      ]
     },
     "metadata": {},
     "output_type": "display_data"
    },
    {
     "data": {
      "application/vnd.jupyter.widget-view+json": {
       "model_id": "fb3b0e98db19424794287f4d22386015",
       "version_major": 2,
       "version_minor": 0
      },
      "text/plain": [
       "  0%|          | 0/10000 [00:00<?, ?it/s]"
      ]
     },
     "metadata": {},
     "output_type": "display_data"
    },
    {
     "data": {
      "application/vnd.jupyter.widget-view+json": {
       "model_id": "cb141a0fd732431b88de12847f624a0d",
       "version_major": 2,
       "version_minor": 0
      },
      "text/plain": [
       "  0%|          | 0/10000 [00:00<?, ?it/s]"
      ]
     },
     "metadata": {},
     "output_type": "display_data"
    },
    {
     "data": {
      "application/vnd.jupyter.widget-view+json": {
       "model_id": "3485f49eb4124faa877308dd38d27008",
       "version_major": 2,
       "version_minor": 0
      },
      "text/plain": [
       "  0%|          | 0/10000 [00:00<?, ?it/s]"
      ]
     },
     "metadata": {},
     "output_type": "display_data"
    },
    {
     "name": "stdout",
     "output_type": "stream",
     "text": [
      "Slightly less naive, simple DF Dataset:\n"
     ]
    },
    {
     "data": {
      "application/vnd.jupyter.widget-view+json": {
       "model_id": "3ff86533d0484726880632f7f85eb1ea",
       "version_major": 2,
       "version_minor": 0
      },
      "text/plain": [
       "  0%|          | 0/5 [00:00<?, ?it/s]"
      ]
     },
     "metadata": {},
     "output_type": "display_data"
    },
    {
     "data": {
      "application/vnd.jupyter.widget-view+json": {
       "model_id": "6add8a567a3a4f25a31d0afc0a40141d",
       "version_major": 2,
       "version_minor": 0
      },
      "text/plain": [
       "  0%|          | 0/10000 [00:00<?, ?it/s]"
      ]
     },
     "metadata": {},
     "output_type": "display_data"
    },
    {
     "data": {
      "application/vnd.jupyter.widget-view+json": {
       "model_id": "b7c8e876ae754ddc8f3fd9e358b96690",
       "version_major": 2,
       "version_minor": 0
      },
      "text/plain": [
       "  0%|          | 0/10000 [00:00<?, ?it/s]"
      ]
     },
     "metadata": {},
     "output_type": "display_data"
    },
    {
     "data": {
      "application/vnd.jupyter.widget-view+json": {
       "model_id": "9b02e5c8d2c249539eefdee9c231be80",
       "version_major": 2,
       "version_minor": 0
      },
      "text/plain": [
       "  0%|          | 0/10000 [00:00<?, ?it/s]"
      ]
     },
     "metadata": {},
     "output_type": "display_data"
    },
    {
     "data": {
      "application/vnd.jupyter.widget-view+json": {
       "model_id": "c4084fa6404a4feb899273defd11cd33",
       "version_major": 2,
       "version_minor": 0
      },
      "text/plain": [
       "  0%|          | 0/10000 [00:00<?, ?it/s]"
      ]
     },
     "metadata": {},
     "output_type": "display_data"
    },
    {
     "data": {
      "application/vnd.jupyter.widget-view+json": {
       "model_id": "14101b62d6a04b15bc3cd1d8be7397a4",
       "version_major": 2,
       "version_minor": 0
      },
      "text/plain": [
       "  0%|          | 0/10000 [00:00<?, ?it/s]"
      ]
     },
     "metadata": {},
     "output_type": "display_data"
    }
   ],
   "source": [
    "from tqdm.auto import tqdm\n",
    "\n",
    "print('Naive DF Dataset:')\n",
    "\n",
    "dataset = NaiveDFDataset(df, [X_columns, y_columns])\n",
    "dl_simple = DataLoader(dataset, batch_size=10, shuffle=True)\n",
    "\n",
    "for epoch in tqdm(range(5)):\n",
    "    for batch in tqdm(dl_simple):\n",
    "        pass\n",
    "\n",
    "print('Slightly less naive, simple DF Dataset:')\n",
    "\n",
    "dataset = SimpleDFDataset(df, [X_columns, y_columns])\n",
    "dl_simple = DataLoader(dataset, batch_size=10, shuffle=True)\n",
    "\n",
    "for epoch in tqdm(range(5)):\n",
    "    for batch in tqdm(dl_simple):\n",
    "        pass"
   ]
  },
  {
   "cell_type": "markdown",
   "id": "3cde21e4",
   "metadata": {},
   "source": [
    "Now try with an EasyDataLoader!"
   ]
  },
  {
   "cell_type": "code",
   "execution_count": 4,
   "id": "c5d54b55",
   "metadata": {},
   "outputs": [
    {
     "data": {
      "application/vnd.jupyter.widget-view+json": {
       "model_id": "4e2de78295604e8e958c8cd626ef6422",
       "version_major": 2,
       "version_minor": 0
      },
      "text/plain": [
       "  0%|          | 0/5 [00:00<?, ?it/s]"
      ]
     },
     "metadata": {},
     "output_type": "display_data"
    },
    {
     "data": {
      "application/vnd.jupyter.widget-view+json": {
       "model_id": "8a3955f18c7f49378537467a5e8b3c1c",
       "version_major": 2,
       "version_minor": 0
      },
      "text/plain": [
       "  0%|          | 0/10000 [00:00<?, ?it/s]"
      ]
     },
     "metadata": {},
     "output_type": "display_data"
    },
    {
     "data": {
      "application/vnd.jupyter.widget-view+json": {
       "model_id": "ebea3973b2fc40008b861699f02ad042",
       "version_major": 2,
       "version_minor": 0
      },
      "text/plain": [
       "  0%|          | 0/10000 [00:00<?, ?it/s]"
      ]
     },
     "metadata": {},
     "output_type": "display_data"
    },
    {
     "data": {
      "application/vnd.jupyter.widget-view+json": {
       "model_id": "43908fe50449470eaef2c4fc570baa49",
       "version_major": 2,
       "version_minor": 0
      },
      "text/plain": [
       "  0%|          | 0/10000 [00:00<?, ?it/s]"
      ]
     },
     "metadata": {},
     "output_type": "display_data"
    },
    {
     "data": {
      "application/vnd.jupyter.widget-view+json": {
       "model_id": "5728db0a459b472ab2caf0daec00d420",
       "version_major": 2,
       "version_minor": 0
      },
      "text/plain": [
       "  0%|          | 0/10000 [00:00<?, ?it/s]"
      ]
     },
     "metadata": {},
     "output_type": "display_data"
    },
    {
     "data": {
      "application/vnd.jupyter.widget-view+json": {
       "model_id": "d957224b6d79440dabb4c68eebe519a8",
       "version_major": 2,
       "version_minor": 0
      },
      "text/plain": [
       "  0%|          | 0/10000 [00:00<?, ?it/s]"
      ]
     },
     "metadata": {},
     "output_type": "display_data"
    }
   ],
   "source": [
    "from easyloader.loader import DFDataLoader\n",
    "\n",
    "dl_easy = DFDataLoader(df, columns=[X_columns, y_columns],\n",
    "                       batch_size=10, shuffle=True)\n",
    "\n",
    "# Iterate through the DataLoader\n",
    "for epoch in tqdm(range(5)):\n",
    "    for batch in tqdm(dl_easy):\n",
    "        pass"
   ]
  },
  {
   "cell_type": "markdown",
   "id": "e34c1d14",
   "metadata": {},
   "source": [
    "# 3. IDs\n",
    "\n",
    "We can keep track of IDs using the `ids` argument. It updates any time we shuffle or sample."
   ]
  },
  {
   "cell_type": "code",
   "execution_count": 5,
   "id": "b8150a2a",
   "metadata": {},
   "outputs": [
    {
     "name": "stdout",
     "output_type": "stream",
     "text": [
      "First 10 IDs before iterating:\n",
      "['item_0', 'item_1', 'item_2', 'item_3', 'item_4', 'item_5', 'item_6', 'item_7', 'item_8', 'item_9']\n",
      "\n",
      "First 10 IDs after iterating:\n",
      "['item_60412', 'item_83577', 'item_81750', 'item_73369', 'item_46369', 'item_17321', 'item_21879', 'item_28399', 'item_38891', 'item_41818']\n"
     ]
    }
   ],
   "source": [
    "df['ids'] = [f'item_{i}' for i in df.index]\n",
    "\n",
    "dl_easy = DFDataLoader(df, columns=[X_columns, y_columns], ids='ids',\n",
    "                       batch_size=10, shuffle=True)\n",
    "\n",
    "print('First 10 IDs before iterating:')\n",
    "print(dl_easy.ids[:10])\n",
    "\n",
    "print('\\nFirst 10 IDs after iterating:')\n",
    "iter(dl_easy)\n",
    "print(dl_easy.ids[:10])"
   ]
  },
  {
   "cell_type": "code",
   "execution_count": null,
   "id": "b0adb55b",
   "metadata": {},
   "outputs": [],
   "source": []
  }
 ],
 "metadata": {
  "kernelspec": {
   "display_name": "Python 3 (ipykernel)",
   "language": "python",
   "name": "python3"
  },
  "language_info": {
   "codemirror_mode": {
    "name": "ipython",
    "version": 3
   },
   "file_extension": ".py",
   "mimetype": "text/x-python",
   "name": "python",
   "nbconvert_exporter": "python",
   "pygments_lexer": "ipython3",
   "version": "3.8.15"
  }
 },
 "nbformat": 4,
 "nbformat_minor": 5
}
