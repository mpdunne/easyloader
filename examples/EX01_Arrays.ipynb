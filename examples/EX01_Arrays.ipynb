{
 "cells": [
  {
   "cell_type": "markdown",
   "id": "2df18f60",
   "metadata": {},
   "source": [
    "# EX01: Arrrays\n",
    "\n",
    "Here's an example using EasyLoader to load NumPy arrays!"
   ]
  },
  {
   "cell_type": "markdown",
   "id": "26cdf53b",
   "metadata": {},
   "source": [
    "## 1. Create some arrays"
   ]
  },
  {
   "cell_type": "code",
   "execution_count": 1,
   "id": "9ebad9b9",
   "metadata": {},
   "outputs": [],
   "source": [
    "import numpy as np\n",
    "\n",
    "array_X = np.random.random(size=(100000, 1000))\n",
    "array_y = np.random.random(size=(100000, 1))"
   ]
  },
  {
   "cell_type": "markdown",
   "id": "49d755c5",
   "metadata": {},
   "source": [
    "## 2. Compare EasyLoader with a DataLoader + Dataset"
   ]
  },
  {
   "cell_type": "markdown",
   "id": "9092f21f",
   "metadata": {},
   "source": [
    "Define a simple array dataset."
   ]
  },
  {
   "cell_type": "code",
   "execution_count": 2,
   "id": "61b4e753",
   "metadata": {},
   "outputs": [],
   "source": [
    "from torch.utils.data import Dataset, DataLoader\n",
    "\n",
    "\n",
    "class SimpleArrayDataset(Dataset):\n",
    "    \n",
    "    def __init__(self, arrays):\n",
    "        self.arrays = arrays\n",
    "    \n",
    "    def __len__(self):\n",
    "        return len(self.arrays[0])\n",
    "    \n",
    "    def __getitem__(self, idx):\n",
    "        return [arr[idx] for arr in self.arrays]"
   ]
  },
  {
   "cell_type": "markdown",
   "id": "ac045427",
   "metadata": {},
   "source": [
    "Wrap and run."
   ]
  },
  {
   "cell_type": "code",
   "execution_count": 3,
   "id": "963c3821",
   "metadata": {},
   "outputs": [
    {
     "data": {
      "application/vnd.jupyter.widget-view+json": {
       "model_id": "7d847c108ded4f029b2a2683d950c50b",
       "version_major": 2,
       "version_minor": 0
      },
      "text/plain": [
       "  0%|          | 0/5 [00:00<?, ?it/s]"
      ]
     },
     "metadata": {},
     "output_type": "display_data"
    },
    {
     "data": {
      "application/vnd.jupyter.widget-view+json": {
       "model_id": "3c8afc95e3024ee4a2b2ce76029c97a9",
       "version_major": 2,
       "version_minor": 0
      },
      "text/plain": [
       "  0%|          | 0/5000 [00:00<?, ?it/s]"
      ]
     },
     "metadata": {},
     "output_type": "display_data"
    },
    {
     "data": {
      "application/vnd.jupyter.widget-view+json": {
       "model_id": "35187047f52c4183a22777af02d2b2b3",
       "version_major": 2,
       "version_minor": 0
      },
      "text/plain": [
       "  0%|          | 0/5000 [00:00<?, ?it/s]"
      ]
     },
     "metadata": {},
     "output_type": "display_data"
    },
    {
     "data": {
      "application/vnd.jupyter.widget-view+json": {
       "model_id": "a626f6ca918348fe93876d8ae4e7ebd2",
       "version_major": 2,
       "version_minor": 0
      },
      "text/plain": [
       "  0%|          | 0/5000 [00:00<?, ?it/s]"
      ]
     },
     "metadata": {},
     "output_type": "display_data"
    },
    {
     "data": {
      "application/vnd.jupyter.widget-view+json": {
       "model_id": "8b73b328fbd94b51ae5a22ea5798e0d7",
       "version_major": 2,
       "version_minor": 0
      },
      "text/plain": [
       "  0%|          | 0/5000 [00:00<?, ?it/s]"
      ]
     },
     "metadata": {},
     "output_type": "display_data"
    },
    {
     "data": {
      "application/vnd.jupyter.widget-view+json": {
       "model_id": "8bcb53d1bb39497ea22d25a4835ea158",
       "version_major": 2,
       "version_minor": 0
      },
      "text/plain": [
       "  0%|          | 0/5000 [00:00<?, ?it/s]"
      ]
     },
     "metadata": {},
     "output_type": "display_data"
    }
   ],
   "source": [
    "from tqdm.auto import tqdm\n",
    "\n",
    "# Sample data: list of arrays\n",
    "dataset = SimpleArrayDataset([array_X, array_y])\n",
    "dl_simple = DataLoader(dataset, batch_size=20, shuffle=True)\n",
    "\n",
    "# Iterate through the DataLoader\n",
    "for epoch in tqdm(range(5)):\n",
    "    for batch in tqdm(dl_simple):\n",
    "        pass"
   ]
  },
  {
   "cell_type": "markdown",
   "id": "5511e441",
   "metadata": {},
   "source": [
    "Now try with an EasyDataLoader!"
   ]
  },
  {
   "cell_type": "code",
   "execution_count": 4,
   "id": "6a755612",
   "metadata": {},
   "outputs": [
    {
     "data": {
      "application/vnd.jupyter.widget-view+json": {
       "model_id": "576aa0c8900a4f6792d18c67a679e377",
       "version_major": 2,
       "version_minor": 0
      },
      "text/plain": [
       "  0%|          | 0/5 [00:00<?, ?it/s]"
      ]
     },
     "metadata": {},
     "output_type": "display_data"
    },
    {
     "data": {
      "application/vnd.jupyter.widget-view+json": {
       "model_id": "ea29676350c147b98cbf7855f15fb8d4",
       "version_major": 2,
       "version_minor": 0
      },
      "text/plain": [
       "  0%|          | 0/5000 [00:00<?, ?it/s]"
      ]
     },
     "metadata": {},
     "output_type": "display_data"
    },
    {
     "data": {
      "application/vnd.jupyter.widget-view+json": {
       "model_id": "b66469e99b2843d2babb1e826305e640",
       "version_major": 2,
       "version_minor": 0
      },
      "text/plain": [
       "  0%|          | 0/5000 [00:00<?, ?it/s]"
      ]
     },
     "metadata": {},
     "output_type": "display_data"
    },
    {
     "data": {
      "application/vnd.jupyter.widget-view+json": {
       "model_id": "b4aac68ccac84ee98eba9addcf35c379",
       "version_major": 2,
       "version_minor": 0
      },
      "text/plain": [
       "  0%|          | 0/5000 [00:00<?, ?it/s]"
      ]
     },
     "metadata": {},
     "output_type": "display_data"
    },
    {
     "data": {
      "application/vnd.jupyter.widget-view+json": {
       "model_id": "cfca3cdd0c3b4b30b1ffa00a65de0f0a",
       "version_major": 2,
       "version_minor": 0
      },
      "text/plain": [
       "  0%|          | 0/5000 [00:00<?, ?it/s]"
      ]
     },
     "metadata": {},
     "output_type": "display_data"
    },
    {
     "data": {
      "application/vnd.jupyter.widget-view+json": {
       "model_id": "b9a8a3051aa94915abbeb1373e2021ed",
       "version_major": 2,
       "version_minor": 0
      },
      "text/plain": [
       "  0%|          | 0/5000 [00:00<?, ?it/s]"
      ]
     },
     "metadata": {},
     "output_type": "display_data"
    }
   ],
   "source": [
    "from easyloader.loader import ArrayDataLoader\n",
    "\n",
    "dl_easy = ArrayDataLoader([array_X, array_y], batch_size=20, shuffle=True)\n",
    "\n",
    "# Iterate through the DataLoader\n",
    "for epoch in tqdm(range(5)):\n",
    "    for batch in tqdm(dl_easy):\n",
    "        pass"
   ]
  },
  {
   "cell_type": "code",
   "execution_count": null,
   "id": "825810bf",
   "metadata": {},
   "outputs": [],
   "source": []
  }
 ],
 "metadata": {
  "kernelspec": {
   "display_name": "Python 3 (ipykernel)",
   "language": "python",
   "name": "python3"
  },
  "language_info": {
   "codemirror_mode": {
    "name": "ipython",
    "version": 3
   },
   "file_extension": ".py",
   "mimetype": "text/x-python",
   "name": "python",
   "nbconvert_exporter": "python",
   "pygments_lexer": "ipython3",
   "version": "3.8.15"
  }
 },
 "nbformat": 4,
 "nbformat_minor": 5
}
